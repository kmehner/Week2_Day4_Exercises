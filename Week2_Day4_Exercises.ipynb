{
 "cells": [
  {
   "cell_type": "markdown",
   "id": "6154e3c4",
   "metadata": {},
   "source": [
    "# Exercises"
   ]
  },
  {
   "cell_type": "markdown",
   "id": "8a78004e",
   "metadata": {},
   "source": [
    "### 1) Create a program that allows a user to continue to add people to an address book until the user quits. Once the user quits, break out of the loop and print out the name and address of everyone in the address book"
   ]
  },
  {
   "cell_type": "markdown",
   "id": "7cd43ccc",
   "metadata": {},
   "source": [
    "###### Steps\n",
    "1. Create a function that will ask user for name and addresses and stores them in a dictionary\n",
    "2. Define an empty dictionary with which to work (global or local variable?)\n",
    "3. Begin a loop that will continue to ask a user for information until the user \"quits\"\n",
    "4. If the user does not quit, ask for a name and address and store the variables into variables\n",
    "5. Add information to the dictionary with name as the key and address as the value\n",
    "6. If the user does quit, end the loop\n",
    "7. Print out the information from the dictionary in a formatted way\n",
    "8. Execute/Call the function"
   ]
  },
  {
   "cell_type": "code",
   "execution_count": 4,
   "id": "06b4ffbf",
   "metadata": {
    "scrolled": true
   },
   "outputs": [
    {
     "name": "stdout",
     "output_type": "stream",
     "text": [
      "What is your name?\n",
      "Please enter 'q' at any time to quit kate\n",
      "What is your address?\n",
      "Please enter 'q' at any time to quit 123 fake st\n",
      "Would anyone else like to add to our address book?(y/n): y\n",
      "What is your name?\n",
      "Please enter 'q' at any time to quit autumn\n",
      "What is your address?\n",
      "Please enter 'q' at any time to quit 321 rd\n",
      "Would anyone else like to add to our address book?(y/n): n\n",
      "Kate lives at 123 Fake St.\n",
      "Autumn lives at 321 Rd.\n",
      " --- Showing the dictionary was saved globally --- \n",
      "Kate lives at 123 Fake St.\n",
      " --- Showing the dictionary was saved globally --- \n",
      "Autumn lives at 321 Rd.\n"
     ]
    }
   ],
   "source": [
    "# Dictionary to fill with user input \n",
    "information = {}\n",
    "\n",
    "def address_book():\n",
    "    \n",
    "    # set a flag to indicate if the program continues running\n",
    "    takeinput = True\n",
    "    \n",
    "    while takeinput:\n",
    "        \n",
    "        # prompt for person's name and address\n",
    "        name = input(\"What is your name?\\nPlease enter 'q' at any time to quit \")\n",
    "        if name == 'q':\n",
    "             break\n",
    "        address = input(\"What is your address?\\nPlease enter 'q' at any time to quit \")\n",
    "        if address == 'q':\n",
    "             break\n",
    "        # store the responses in a dictionary \n",
    "        information[name] = address\n",
    "        \n",
    "        # Ask if anyone else wants to add to the dictionary\n",
    "        repeat = input(\"Would anyone else like to add to our address book?(y/n): \")\n",
    "        if repeat != 'y':\n",
    "            takeinput = False\n",
    "        \n",
    "    # Show the results \n",
    "    for name, address in information.items():\n",
    "        print(f\"{name.title()} lives at {address.title()}.\")\n",
    "    \n",
    "address_book()\n",
    "\n",
    "\n",
    "for name, address in information.items():\n",
    "        print (\" --- Showing the dictionary was saved globally --- \")\n",
    "        print(f\"{name.title()} lives at {address.title()}.\")"
   ]
  },
  {
   "cell_type": "markdown",
   "id": "aec9660b",
   "metadata": {},
   "source": [
    "### 2) Best Time to Meet"
   ]
  },
  {
   "cell_type": "markdown",
   "id": "3a3edf93",
   "metadata": {},
   "source": [
    "Billy is trying to figure out if there is a time that he and his team can meet to work on the project. His three teammates each give him a list of times they are available ('HH:MM' 24-hour). Create a function that will take in the list of all the teammates and return a list of times where everyone can meet."
   ]
  },
  {
   "cell_type": "code",
   "execution_count": 2,
   "id": "3f4d1878",
   "metadata": {},
   "outputs": [
    {
     "data": {
      "text/plain": [
       "\"Everyone is available to meet at: {'12:00', '14:30'}\""
      ]
     },
     "execution_count": 2,
     "metadata": {},
     "output_type": "execute_result"
    }
   ],
   "source": [
    "billy_times = ['09:00', '10:30', '11:30', '12:00', '13:00', '14:30']\n",
    "teammate_1 = ['09:30', '10:00', '10:30', '12:00', '14:30', '16:00']\n",
    "teammate_2 = ['09:00', '09:30', '11:00', '11:30', '12:00', '13:30', '14:30', '15:00']\n",
    "teammate_3 = ['11:00', '11:30', '12:00', '14:00', '14:30', '16:30', '17:00']\n",
    "# Available Times: '12:00' and '14:30'\n",
    "\n",
    "\n",
    "def meetingtime(s1, s2, s3, s4):\n",
    "    meetingtime = set(s1) & set(s2) & set(s3) & set(s4) \n",
    "    return (f\"Everyone is available to meet at: {meetingtime}\")\n",
    "\n",
    "\n",
    "meetingtime(billy_times, teammate_1, teammate_2, teammate_3)"
   ]
  }
 ],
 "metadata": {
  "kernelspec": {
   "display_name": "Python 3 (ipykernel)",
   "language": "python",
   "name": "python3"
  },
  "language_info": {
   "codemirror_mode": {
    "name": "ipython",
    "version": 3
   },
   "file_extension": ".py",
   "mimetype": "text/x-python",
   "name": "python",
   "nbconvert_exporter": "python",
   "pygments_lexer": "ipython3",
   "version": "3.9.7"
  }
 },
 "nbformat": 4,
 "nbformat_minor": 5
}
